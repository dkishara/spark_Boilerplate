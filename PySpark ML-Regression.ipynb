{
 "cells": [
  {
   "cell_type": "markdown",
   "id": "23072be2",
   "metadata": {},
   "source": [
    "## PySpark Data Preprocessing, Regression"
   ]
  },
  {
   "cell_type": "code",
   "execution_count": 1,
   "id": "514da79a",
   "metadata": {},
   "outputs": [
    {
     "data": {
      "text/html": [
       "\n",
       "            <div>\n",
       "                <p><b>SparkSession - in-memory</b></p>\n",
       "                \n",
       "        <div>\n",
       "            <p><b>SparkContext</b></p>\n",
       "\n",
       "            <p><a href=\"http://IsharaC.seranet.local:4040\">Spark UI</a></p>\n",
       "\n",
       "            <dl>\n",
       "              <dt>Version</dt>\n",
       "                <dd><code>v3.2.1</code></dd>\n",
       "              <dt>Master</dt>\n",
       "                <dd><code>local[*]</code></dd>\n",
       "              <dt>AppName</dt>\n",
       "                <dd><code>practice</code></dd>\n",
       "            </dl>\n",
       "        </div>\n",
       "        \n",
       "            </div>\n",
       "        "
      ],
      "text/plain": [
       "<pyspark.sql.session.SparkSession at 0x21e8e0c19a0>"
      ]
     },
     "execution_count": 1,
     "metadata": {},
     "output_type": "execute_result"
    }
   ],
   "source": [
    "from pyspark.sql import SparkSession\n",
    "spark=SparkSession.builder.appName('practice').getOrCreate()\n",
    "spark"
   ]
  },
  {
   "cell_type": "code",
   "execution_count": 2,
   "id": "df0b1190",
   "metadata": {},
   "outputs": [
    {
     "name": "stdout",
     "output_type": "stream",
     "text": [
      "+----------+----+------+------+---+------+----+\n",
      "|total_bill| tip|   sex|smoker|day|  time|size|\n",
      "+----------+----+------+------+---+------+----+\n",
      "|     16.99|1.01|Female|    No|Sun|Dinner|   2|\n",
      "|     10.34|1.66|  Male|    No|Sun|Dinner|   3|\n",
      "|     21.01| 3.5|  Male|    No|Sun|Dinner|   3|\n",
      "|     23.68|3.31|  Male|    No|Sun|Dinner|   2|\n",
      "|     24.59|3.61|Female|    No|Sun|Dinner|   4|\n",
      "|     25.29|4.71|  Male|    No|Sun|Dinner|   4|\n",
      "|      8.77| 2.0|  Male|    No|Sun|Dinner|   2|\n",
      "|     26.88|3.12|  Male|    No|Sun|Dinner|   4|\n",
      "|     15.04|1.96|  Male|    No|Sun|Dinner|   2|\n",
      "|     14.78|3.23|  Male|    No|Sun|Dinner|   2|\n",
      "|     10.27|1.71|  Male|    No|Sun|Dinner|   2|\n",
      "|     35.26| 5.0|Female|    No|Sun|Dinner|   4|\n",
      "|     15.42|1.57|  Male|    No|Sun|Dinner|   2|\n",
      "|     18.43| 3.0|  Male|    No|Sun|Dinner|   4|\n",
      "|     14.83|3.02|Female|    No|Sun|Dinner|   2|\n",
      "|     21.58|3.92|  Male|    No|Sun|Dinner|   2|\n",
      "|     10.33|1.67|Female|    No|Sun|Dinner|   3|\n",
      "|     16.29|3.71|  Male|    No|Sun|Dinner|   3|\n",
      "|     16.97| 3.5|Female|    No|Sun|Dinner|   3|\n",
      "|     20.65|3.35|  Male|    No|Sat|Dinner|   3|\n",
      "+----------+----+------+------+---+------+----+\n",
      "only showing top 20 rows\n",
      "\n"
     ]
    }
   ],
   "source": [
    "df=spark.read.csv('tips.csv',header=True,inferSchema=True)\n",
    "df.show()"
   ]
  },
  {
   "cell_type": "code",
   "execution_count": 3,
   "id": "fdd045b4",
   "metadata": {},
   "outputs": [
    {
     "name": "stdout",
     "output_type": "stream",
     "text": [
      "root\n",
      " |-- total_bill: double (nullable = true)\n",
      " |-- tip: double (nullable = true)\n",
      " |-- sex: string (nullable = true)\n",
      " |-- smoker: string (nullable = true)\n",
      " |-- day: string (nullable = true)\n",
      " |-- time: string (nullable = true)\n",
      " |-- size: integer (nullable = true)\n",
      "\n"
     ]
    }
   ],
   "source": [
    "df.printSchema()"
   ]
  },
  {
   "cell_type": "markdown",
   "id": "bd4be9fc",
   "metadata": {},
   "source": [
    "### Handle category features"
   ]
  },
  {
   "cell_type": "code",
   "execution_count": 4,
   "id": "1c851dce",
   "metadata": {},
   "outputs": [],
   "source": [
    "#Import String Indexer to handle category features\n",
    "from pyspark.ml.feature import StringIndexer"
   ]
  },
  {
   "cell_type": "code",
   "execution_count": 5,
   "id": "301b1894",
   "metadata": {},
   "outputs": [
    {
     "name": "stdout",
     "output_type": "stream",
     "text": [
      "+----------+----+------+------+---+------+----+-----------+\n",
      "|total_bill| tip|   sex|smoker|day|  time|size|sex_indexed|\n",
      "+----------+----+------+------+---+------+----+-----------+\n",
      "|     16.99|1.01|Female|    No|Sun|Dinner|   2|        1.0|\n",
      "|     10.34|1.66|  Male|    No|Sun|Dinner|   3|        0.0|\n",
      "|     21.01| 3.5|  Male|    No|Sun|Dinner|   3|        0.0|\n",
      "|     23.68|3.31|  Male|    No|Sun|Dinner|   2|        0.0|\n",
      "|     24.59|3.61|Female|    No|Sun|Dinner|   4|        1.0|\n",
      "|     25.29|4.71|  Male|    No|Sun|Dinner|   4|        0.0|\n",
      "|      8.77| 2.0|  Male|    No|Sun|Dinner|   2|        0.0|\n",
      "|     26.88|3.12|  Male|    No|Sun|Dinner|   4|        0.0|\n",
      "|     15.04|1.96|  Male|    No|Sun|Dinner|   2|        0.0|\n",
      "|     14.78|3.23|  Male|    No|Sun|Dinner|   2|        0.0|\n",
      "|     10.27|1.71|  Male|    No|Sun|Dinner|   2|        0.0|\n",
      "|     35.26| 5.0|Female|    No|Sun|Dinner|   4|        1.0|\n",
      "|     15.42|1.57|  Male|    No|Sun|Dinner|   2|        0.0|\n",
      "|     18.43| 3.0|  Male|    No|Sun|Dinner|   4|        0.0|\n",
      "|     14.83|3.02|Female|    No|Sun|Dinner|   2|        1.0|\n",
      "|     21.58|3.92|  Male|    No|Sun|Dinner|   2|        0.0|\n",
      "|     10.33|1.67|Female|    No|Sun|Dinner|   3|        1.0|\n",
      "|     16.29|3.71|  Male|    No|Sun|Dinner|   3|        0.0|\n",
      "|     16.97| 3.5|Female|    No|Sun|Dinner|   3|        1.0|\n",
      "|     20.65|3.35|  Male|    No|Sat|Dinner|   3|        0.0|\n",
      "+----------+----+------+------+---+------+----+-----------+\n",
      "only showing top 20 rows\n",
      "\n"
     ]
    }
   ],
   "source": [
    "#perform ordinary encodeing for category colum\n",
    "indexer=StringIndexer(inputCol='sex',outputCol='sex_indexed')\n",
    "df_1=indexer.fit(df).transform(df)\n",
    "df_1.show()"
   ]
  },
  {
   "cell_type": "code",
   "execution_count": 6,
   "id": "18676128",
   "metadata": {},
   "outputs": [
    {
     "name": "stdout",
     "output_type": "stream",
     "text": [
      "+----------+----+------+------+---+------+----+-----------+-----------+------------+\n",
      "|total_bill| tip|   sex|smoker|day|  time|size|sex_indexed|day_indexed|time_indexed|\n",
      "+----------+----+------+------+---+------+----+-----------+-----------+------------+\n",
      "|     16.99|1.01|Female|    No|Sun|Dinner|   2|        1.0|        1.0|         0.0|\n",
      "|     10.34|1.66|  Male|    No|Sun|Dinner|   3|        0.0|        1.0|         0.0|\n",
      "|     21.01| 3.5|  Male|    No|Sun|Dinner|   3|        0.0|        1.0|         0.0|\n",
      "|     23.68|3.31|  Male|    No|Sun|Dinner|   2|        0.0|        1.0|         0.0|\n",
      "|     24.59|3.61|Female|    No|Sun|Dinner|   4|        1.0|        1.0|         0.0|\n",
      "|     25.29|4.71|  Male|    No|Sun|Dinner|   4|        0.0|        1.0|         0.0|\n",
      "|      8.77| 2.0|  Male|    No|Sun|Dinner|   2|        0.0|        1.0|         0.0|\n",
      "|     26.88|3.12|  Male|    No|Sun|Dinner|   4|        0.0|        1.0|         0.0|\n",
      "|     15.04|1.96|  Male|    No|Sun|Dinner|   2|        0.0|        1.0|         0.0|\n",
      "|     14.78|3.23|  Male|    No|Sun|Dinner|   2|        0.0|        1.0|         0.0|\n",
      "|     10.27|1.71|  Male|    No|Sun|Dinner|   2|        0.0|        1.0|         0.0|\n",
      "|     35.26| 5.0|Female|    No|Sun|Dinner|   4|        1.0|        1.0|         0.0|\n",
      "|     15.42|1.57|  Male|    No|Sun|Dinner|   2|        0.0|        1.0|         0.0|\n",
      "|     18.43| 3.0|  Male|    No|Sun|Dinner|   4|        0.0|        1.0|         0.0|\n",
      "|     14.83|3.02|Female|    No|Sun|Dinner|   2|        1.0|        1.0|         0.0|\n",
      "|     21.58|3.92|  Male|    No|Sun|Dinner|   2|        0.0|        1.0|         0.0|\n",
      "|     10.33|1.67|Female|    No|Sun|Dinner|   3|        1.0|        1.0|         0.0|\n",
      "|     16.29|3.71|  Male|    No|Sun|Dinner|   3|        0.0|        1.0|         0.0|\n",
      "|     16.97| 3.5|Female|    No|Sun|Dinner|   3|        1.0|        1.0|         0.0|\n",
      "|     20.65|3.35|  Male|    No|Sat|Dinner|   3|        0.0|        0.0|         0.0|\n",
      "+----------+----+------+------+---+------+----+-----------+-----------+------------+\n",
      "only showing top 20 rows\n",
      "\n"
     ]
    }
   ],
   "source": [
    "#perform ordinary encodeing for multiple category columns\n",
    "indexer=StringIndexer(inputCols=['sex','day','time'],outputCols=['sex_indexed','day_indexed','time_indexed'])\n",
    "df_2=indexer.fit(df).transform(df)\n",
    "df_2.show()"
   ]
  },
  {
   "cell_type": "code",
   "execution_count": 7,
   "id": "850d244b",
   "metadata": {},
   "outputs": [],
   "source": [
    "#assemble indipendent feautres in to group using Vector Assembler\n",
    "from pyspark.ml.feature import VectorAssembler\n",
    "featureAssembler=VectorAssembler(inputCols=['tip','size','sex_indexed','day_indexed','time_indexed'],outputCol=\"Independent Features\")\n",
    "output=featureAssembler.transform(df_2)"
   ]
  },
  {
   "cell_type": "code",
   "execution_count": 9,
   "id": "b8bd2f39",
   "metadata": {},
   "outputs": [
    {
     "name": "stdout",
     "output_type": "stream",
     "text": [
      "+----------+----+------+------+---+------+----+-----------+-----------+------------+--------------------+\n",
      "|total_bill| tip|   sex|smoker|day|  time|size|sex_indexed|day_indexed|time_indexed|Independent Features|\n",
      "+----------+----+------+------+---+------+----+-----------+-----------+------------+--------------------+\n",
      "|     16.99|1.01|Female|    No|Sun|Dinner|   2|        1.0|        1.0|         0.0|[1.01,2.0,1.0,1.0...|\n",
      "|     10.34|1.66|  Male|    No|Sun|Dinner|   3|        0.0|        1.0|         0.0|[1.66,3.0,0.0,1.0...|\n",
      "|     21.01| 3.5|  Male|    No|Sun|Dinner|   3|        0.0|        1.0|         0.0|[3.5,3.0,0.0,1.0,...|\n",
      "|     23.68|3.31|  Male|    No|Sun|Dinner|   2|        0.0|        1.0|         0.0|[3.31,2.0,0.0,1.0...|\n",
      "|     24.59|3.61|Female|    No|Sun|Dinner|   4|        1.0|        1.0|         0.0|[3.61,4.0,1.0,1.0...|\n",
      "|     25.29|4.71|  Male|    No|Sun|Dinner|   4|        0.0|        1.0|         0.0|[4.71,4.0,0.0,1.0...|\n",
      "|      8.77| 2.0|  Male|    No|Sun|Dinner|   2|        0.0|        1.0|         0.0|[2.0,2.0,0.0,1.0,...|\n",
      "|     26.88|3.12|  Male|    No|Sun|Dinner|   4|        0.0|        1.0|         0.0|[3.12,4.0,0.0,1.0...|\n",
      "|     15.04|1.96|  Male|    No|Sun|Dinner|   2|        0.0|        1.0|         0.0|[1.96,2.0,0.0,1.0...|\n",
      "|     14.78|3.23|  Male|    No|Sun|Dinner|   2|        0.0|        1.0|         0.0|[3.23,2.0,0.0,1.0...|\n",
      "|     10.27|1.71|  Male|    No|Sun|Dinner|   2|        0.0|        1.0|         0.0|[1.71,2.0,0.0,1.0...|\n",
      "|     35.26| 5.0|Female|    No|Sun|Dinner|   4|        1.0|        1.0|         0.0|[5.0,4.0,1.0,1.0,...|\n",
      "|     15.42|1.57|  Male|    No|Sun|Dinner|   2|        0.0|        1.0|         0.0|[1.57,2.0,0.0,1.0...|\n",
      "|     18.43| 3.0|  Male|    No|Sun|Dinner|   4|        0.0|        1.0|         0.0|[3.0,4.0,0.0,1.0,...|\n",
      "|     14.83|3.02|Female|    No|Sun|Dinner|   2|        1.0|        1.0|         0.0|[3.02,2.0,1.0,1.0...|\n",
      "|     21.58|3.92|  Male|    No|Sun|Dinner|   2|        0.0|        1.0|         0.0|[3.92,2.0,0.0,1.0...|\n",
      "|     10.33|1.67|Female|    No|Sun|Dinner|   3|        1.0|        1.0|         0.0|[1.67,3.0,1.0,1.0...|\n",
      "|     16.29|3.71|  Male|    No|Sun|Dinner|   3|        0.0|        1.0|         0.0|[3.71,3.0,0.0,1.0...|\n",
      "|     16.97| 3.5|Female|    No|Sun|Dinner|   3|        1.0|        1.0|         0.0|[3.5,3.0,1.0,1.0,...|\n",
      "|     20.65|3.35|  Male|    No|Sat|Dinner|   3|        0.0|        0.0|         0.0|(5,[0,1],[3.35,3.0])|\n",
      "+----------+----+------+------+---+------+----+-----------+-----------+------------+--------------------+\n",
      "only showing top 20 rows\n",
      "\n"
     ]
    }
   ],
   "source": [
    "output.show()"
   ]
  },
  {
   "cell_type": "code",
   "execution_count": 10,
   "id": "9a9f893f",
   "metadata": {},
   "outputs": [
    {
     "name": "stdout",
     "output_type": "stream",
     "text": [
      "+--------------------+----------+\n",
      "|Independent Features|total_bill|\n",
      "+--------------------+----------+\n",
      "|[1.01,2.0,1.0,1.0...|     16.99|\n",
      "|[1.66,3.0,0.0,1.0...|     10.34|\n",
      "|[3.5,3.0,0.0,1.0,...|     21.01|\n",
      "|[3.31,2.0,0.0,1.0...|     23.68|\n",
      "|[3.61,4.0,1.0,1.0...|     24.59|\n",
      "|[4.71,4.0,0.0,1.0...|     25.29|\n",
      "|[2.0,2.0,0.0,1.0,...|      8.77|\n",
      "|[3.12,4.0,0.0,1.0...|     26.88|\n",
      "|[1.96,2.0,0.0,1.0...|     15.04|\n",
      "|[3.23,2.0,0.0,1.0...|     14.78|\n",
      "|[1.71,2.0,0.0,1.0...|     10.27|\n",
      "|[5.0,4.0,1.0,1.0,...|     35.26|\n",
      "|[1.57,2.0,0.0,1.0...|     15.42|\n",
      "|[3.0,4.0,0.0,1.0,...|     18.43|\n",
      "|[3.02,2.0,1.0,1.0...|     14.83|\n",
      "|[3.92,2.0,0.0,1.0...|     21.58|\n",
      "|[1.67,3.0,1.0,1.0...|     10.33|\n",
      "|[3.71,3.0,0.0,1.0...|     16.29|\n",
      "|[3.5,3.0,1.0,1.0,...|     16.97|\n",
      "|(5,[0,1],[3.35,3.0])|     20.65|\n",
      "+--------------------+----------+\n",
      "only showing top 20 rows\n",
      "\n"
     ]
    }
   ],
   "source": [
    "final_df=output.select('Independent Features','total_bill')\n",
    "final_df.show()"
   ]
  },
  {
   "cell_type": "code",
   "execution_count": 11,
   "id": "6fbe33dc",
   "metadata": {},
   "outputs": [],
   "source": [
    "from pyspark.ml.regression import LinearRegression\n",
    "train_data,test_data=final_df.randomSplit([0.75,0.25])\n",
    "regressor=LinearRegression(featuresCol='Independent Features',labelCol='total_bill')\n",
    "regressor=regressor.fit(train_data)"
   ]
  },
  {
   "cell_type": "code",
   "execution_count": 12,
   "id": "2b5b1891",
   "metadata": {},
   "outputs": [
    {
     "data": {
      "text/plain": [
       "DenseVector([3.4436, 2.988, -1.4709, 0.198, -1.2901])"
      ]
     },
     "execution_count": 12,
     "metadata": {},
     "output_type": "execute_result"
    }
   ],
   "source": [
    "regressor.coefficients"
   ]
  },
  {
   "cell_type": "code",
   "execution_count": 13,
   "id": "494d7fc0",
   "metadata": {},
   "outputs": [
    {
     "data": {
      "text/plain": [
       "2.5772833793876204"
      ]
     },
     "execution_count": 13,
     "metadata": {},
     "output_type": "execute_result"
    }
   ],
   "source": [
    "regressor.intercept"
   ]
  },
  {
   "cell_type": "code",
   "execution_count": 14,
   "id": "55d5650d",
   "metadata": {},
   "outputs": [
    {
     "name": "stderr",
     "output_type": "stream",
     "text": [
      "C:\\ProgramData\\Anaconda3\\lib\\site-packages\\pyspark\\sql\\context.py:125: FutureWarning: Deprecated in 3.0.0. Use SparkSession.builder.getOrCreate() instead.\n",
      "  warnings.warn(\n"
     ]
    },
    {
     "name": "stdout",
     "output_type": "stream",
     "text": [
      "+--------------------+----------+------------------+\n",
      "|Independent Features|total_bill|        prediction|\n",
      "+--------------------+----------+------------------+\n",
      "|(5,[0,1],[1.17,2.0])|     32.83|12.582175755278332|\n",
      "|(5,[0,1],[1.47,2.0])|     10.77| 13.61524786537155|\n",
      "|(5,[0,1],[1.64,2.0])|     15.36|14.200655394424377|\n",
      "|(5,[0,1],[1.75,2.0])|     17.82|14.579448501458558|\n",
      "|(5,[0,1],[1.97,2.0])|     12.02|15.337034715526919|\n",
      "| (5,[0,1],[2.0,2.0])|     12.69|15.440341926536242|\n",
      "| (5,[0,1],[2.0,3.0])|     16.31|18.428297499799818|\n",
      "| (5,[0,1],[2.0,3.0])|     30.06|18.428297499799818|\n",
      "|(5,[0,1],[2.09,2.0])|     15.01|15.750263559564207|\n",
      "|(5,[0,1],[2.72,2.0])|     13.28| 17.91971499075997|\n",
      "| (5,[0,1],[3.0,2.0])|      14.0|18.883915626846974|\n",
      "| (5,[0,1],[3.0,4.0])|     38.01|24.859826773374127|\n",
      "|(5,[0,1],[3.27,2.0])|     17.78|19.813680525930874|\n",
      "|(5,[0,1],[3.39,2.0])|     11.61|20.226909369968165|\n",
      "|(5,[0,1],[4.08,2.0])|     17.92|22.602975223182572|\n",
      "| (5,[0,1],[5.0,3.0])|     31.27|28.759018600732023|\n",
      "|(5,[0,1],[7.58,4.0])|     39.42|  40.6313943207973|\n",
      "|[1.1,2.0,1.0,0.0,...|      12.9|  10.8702439803339|\n",
      "|[1.44,2.0,0.0,2.0...|      7.56|12.617890674442819|\n",
      "|[1.48,2.0,0.0,2.0...|      8.52|12.755633622455246|\n",
      "+--------------------+----------+------------------+\n",
      "only showing top 20 rows\n",
      "\n"
     ]
    }
   ],
   "source": [
    "pred_results=regressor.evaluate(test_data)\n",
    "pred_results.predictions.show()"
   ]
  },
  {
   "cell_type": "code",
   "execution_count": 15,
   "id": "fa1a1c9a",
   "metadata": {},
   "outputs": [
    {
     "data": {
      "text/plain": [
       "(4.207579924819375, 32.476560899589145)"
      ]
     },
     "execution_count": 15,
     "metadata": {},
     "output_type": "execute_result"
    }
   ],
   "source": [
    "pred_results.meanAbsoluteError, pred_results.meanSquaredError"
   ]
  },
  {
   "cell_type": "code",
   "execution_count": 16,
   "id": "bfed63a6",
   "metadata": {},
   "outputs": [
    {
     "data": {
      "text/plain": [
       "0.448655053225852"
      ]
     },
     "execution_count": 16,
     "metadata": {},
     "output_type": "execute_result"
    }
   ],
   "source": [
    "pred_results.r2"
   ]
  },
  {
   "cell_type": "code",
   "execution_count": null,
   "id": "9f40e55b",
   "metadata": {},
   "outputs": [],
   "source": []
  }
 ],
 "metadata": {
  "kernelspec": {
   "display_name": "Python 3",
   "language": "python",
   "name": "python3"
  },
  "language_info": {
   "codemirror_mode": {
    "name": "ipython",
    "version": 3
   },
   "file_extension": ".py",
   "mimetype": "text/x-python",
   "name": "python",
   "nbconvert_exporter": "python",
   "pygments_lexer": "ipython3",
   "version": "3.8.8"
  }
 },
 "nbformat": 4,
 "nbformat_minor": 5
}
