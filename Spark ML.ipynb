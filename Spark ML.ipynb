{
 "cells": [
  {
   "cell_type": "markdown",
   "id": "6a790547",
   "metadata": {},
   "source": [
    "## Machine Learning with spark"
   ]
  },
  {
   "cell_type": "code",
   "execution_count": 1,
   "id": "a54c33f9",
   "metadata": {},
   "outputs": [
    {
     "data": {
      "text/html": [
       "\n",
       "            <div>\n",
       "                <p><b>SparkSession - in-memory</b></p>\n",
       "                \n",
       "        <div>\n",
       "            <p><b>SparkContext</b></p>\n",
       "\n",
       "            <p><a href=\"http://IsharaC.seranet.local:4042\">Spark UI</a></p>\n",
       "\n",
       "            <dl>\n",
       "              <dt>Version</dt>\n",
       "                <dd><code>v3.2.1</code></dd>\n",
       "              <dt>Master</dt>\n",
       "                <dd><code>local[*]</code></dd>\n",
       "              <dt>AppName</dt>\n",
       "                <dd><code>practice</code></dd>\n",
       "            </dl>\n",
       "        </div>\n",
       "        \n",
       "            </div>\n",
       "        "
      ],
      "text/plain": [
       "<pyspark.sql.session.SparkSession at 0x196a0cd09a0>"
      ]
     },
     "execution_count": 1,
     "metadata": {},
     "output_type": "execute_result"
    }
   ],
   "source": [
    "from pyspark.sql import SparkSession\n",
    "spark=SparkSession.builder.appName('practice').getOrCreate()\n",
    "spark"
   ]
  },
  {
   "cell_type": "code",
   "execution_count": 26,
   "id": "226795a8",
   "metadata": {},
   "outputs": [
    {
     "name": "stdout",
     "output_type": "stream",
     "text": [
      "+----+---+----------+------+\n",
      "|Name|age|Experience|Salary|\n",
      "+----+---+----------+------+\n",
      "|  x1| 31|        10| 30000|\n",
      "|  x2| 30|         8| 25000|\n",
      "|  x3| 29|         4| 22000|\n",
      "|  x4| 24|         3| 20000|\n",
      "|  x5| 21|         1| 15000|\n",
      "|  x6| 23|         2| 18000|\n",
      "|  x7| 20|         1| 14000|\n",
      "|  x8| 27|         3| 21000|\n",
      "+----+---+----------+------+\n",
      "\n"
     ]
    }
   ],
   "source": [
    "df_spark=spark.read.csv('simple.csv',header=True,inferSchema=True)\n",
    "df_spark.show()"
   ]
  },
  {
   "cell_type": "code",
   "execution_count": 27,
   "id": "1753bff0",
   "metadata": {},
   "outputs": [
    {
     "name": "stdout",
     "output_type": "stream",
     "text": [
      "root\n",
      " |-- Name: string (nullable = true)\n",
      " |-- age: integer (nullable = true)\n",
      " |-- Experience: integer (nullable = true)\n",
      " |-- Salary: integer (nullable = true)\n",
      "\n"
     ]
    }
   ],
   "source": [
    "df_spark.printSchema()"
   ]
  },
  {
   "cell_type": "code",
   "execution_count": 28,
   "id": "1837a997",
   "metadata": {},
   "outputs": [
    {
     "data": {
      "text/plain": [
       "['Name', 'age', 'Experience', 'Salary']"
      ]
     },
     "execution_count": 28,
     "metadata": {},
     "output_type": "execute_result"
    }
   ],
   "source": [
    "df_spark.columns"
   ]
  },
  {
   "cell_type": "code",
   "execution_count": 29,
   "id": "7d35a25b",
   "metadata": {},
   "outputs": [],
   "source": [
    "#In spark we have to assemble indipendent feautres in to group using vector Assembler\n",
    "#catagory varibles needs to convert in to numeric data\n",
    "from pyspark.ml.feature import VectorAssembler\n",
    "featureAssembler=VectorAssembler(inputCols=['age','Experience'],outputCol=\"Independent Features\")"
   ]
  },
  {
   "cell_type": "code",
   "execution_count": 30,
   "id": "38cff5e5",
   "metadata": {},
   "outputs": [],
   "source": [
    "#transform dataset using feature assembeler\n",
    "output=featureAssembler.transform(df_spark)"
   ]
  },
  {
   "cell_type": "code",
   "execution_count": 31,
   "id": "12a0f64b",
   "metadata": {},
   "outputs": [
    {
     "name": "stdout",
     "output_type": "stream",
     "text": [
      "+----+---+----------+------+--------------------+\n",
      "|Name|age|Experience|Salary|Independent Features|\n",
      "+----+---+----------+------+--------------------+\n",
      "|  x1| 31|        10| 30000|         [31.0,10.0]|\n",
      "|  x2| 30|         8| 25000|          [30.0,8.0]|\n",
      "|  x3| 29|         4| 22000|          [29.0,4.0]|\n",
      "|  x4| 24|         3| 20000|          [24.0,3.0]|\n",
      "|  x5| 21|         1| 15000|          [21.0,1.0]|\n",
      "|  x6| 23|         2| 18000|          [23.0,2.0]|\n",
      "|  x7| 20|         1| 14000|          [20.0,1.0]|\n",
      "|  x8| 27|         3| 21000|          [27.0,3.0]|\n",
      "+----+---+----------+------+--------------------+\n",
      "\n"
     ]
    }
   ],
   "source": [
    "output.show()"
   ]
  },
  {
   "cell_type": "code",
   "execution_count": 32,
   "id": "4a0ecb2e",
   "metadata": {},
   "outputs": [],
   "source": [
    "#Pick only output feature and Indipendent feature columns\n",
    "finalData=output.select('Independent Features','Salary')"
   ]
  },
  {
   "cell_type": "code",
   "execution_count": 33,
   "id": "5a418988",
   "metadata": {},
   "outputs": [
    {
     "name": "stdout",
     "output_type": "stream",
     "text": [
      "+--------------------+------+\n",
      "|Independent Features|Salary|\n",
      "+--------------------+------+\n",
      "|         [31.0,10.0]| 30000|\n",
      "|          [30.0,8.0]| 25000|\n",
      "|          [29.0,4.0]| 22000|\n",
      "|          [24.0,3.0]| 20000|\n",
      "|          [21.0,1.0]| 15000|\n",
      "|          [23.0,2.0]| 18000|\n",
      "|          [20.0,1.0]| 14000|\n",
      "|          [27.0,3.0]| 21000|\n",
      "+--------------------+------+\n",
      "\n"
     ]
    }
   ],
   "source": [
    "finalData.show()"
   ]
  },
  {
   "cell_type": "code",
   "execution_count": 34,
   "id": "c2a23105",
   "metadata": {},
   "outputs": [],
   "source": [
    "#import model\n",
    "from pyspark.ml.regression import LinearRegression"
   ]
  },
  {
   "cell_type": "code",
   "execution_count": 35,
   "id": "7a60bc42",
   "metadata": {},
   "outputs": [],
   "source": [
    "#train test spilit\n",
    "train_data,test_data=finalData.randomSplit([0.75,0.25])"
   ]
  },
  {
   "cell_type": "code",
   "execution_count": 36,
   "id": "5b83c130",
   "metadata": {},
   "outputs": [],
   "source": [
    "#train model\n",
    "regressor=LinearRegression(featuresCol='Independent Features',labelCol='Salary')\n",
    "regressor=regressor.fit(train_data)"
   ]
  },
  {
   "cell_type": "code",
   "execution_count": 37,
   "id": "0358cd0f",
   "metadata": {},
   "outputs": [
    {
     "data": {
      "text/plain": [
       "DenseVector([688.1288, 565.3924])"
      ]
     },
     "execution_count": 37,
     "metadata": {},
     "output_type": "execute_result"
    }
   ],
   "source": [
    "regressor.coefficients"
   ]
  },
  {
   "cell_type": "code",
   "execution_count": 38,
   "id": "e033dc5b",
   "metadata": {},
   "outputs": [
    {
     "data": {
      "text/plain": [
       "-182.0925553324607"
      ]
     },
     "execution_count": 38,
     "metadata": {},
     "output_type": "execute_result"
    }
   ],
   "source": [
    "regressor.intercept"
   ]
  },
  {
   "cell_type": "code",
   "execution_count": 39,
   "id": "64b8bcc2",
   "metadata": {},
   "outputs": [],
   "source": [
    "#predection\n",
    "pred_results=regressor.evaluate(test_data)"
   ]
  },
  {
   "cell_type": "code",
   "execution_count": 40,
   "id": "1d4f54ba",
   "metadata": {},
   "outputs": [
    {
     "name": "stdout",
     "output_type": "stream",
     "text": [
      "+--------------------+------+------------------+\n",
      "|Independent Features|Salary|        prediction|\n",
      "+--------------------+------+------------------+\n",
      "|          [23.0,2.0]| 18000|16775.653923541253|\n",
      "|          [24.0,3.0]| 20000| 18029.17505030181|\n",
      "|          [27.0,3.0]| 21000| 20093.56136820932|\n",
      "|         [31.0,10.0]| 30000|26803.822937625682|\n",
      "+--------------------+------+------------------+\n",
      "\n"
     ]
    },
    {
     "name": "stderr",
     "output_type": "stream",
     "text": [
      "C:\\ProgramData\\Anaconda3\\lib\\site-packages\\pyspark\\sql\\context.py:125: FutureWarning: Deprecated in 3.0.0. Use SparkSession.builder.getOrCreate() instead.\n",
      "  warnings.warn(\n"
     ]
    }
   ],
   "source": [
    "pred_results.predictions.show()"
   ]
  },
  {
   "cell_type": "code",
   "execution_count": 41,
   "id": "978c6c23",
   "metadata": {},
   "outputs": [
    {
     "data": {
      "text/plain": [
       "(1824.446680080484, 4105088.2761357725)"
      ]
     },
     "execution_count": 41,
     "metadata": {},
     "output_type": "execute_result"
    }
   ],
   "source": [
    "pred_results.meanAbsoluteError, pred_results.meanSquaredError"
   ]
  },
  {
   "cell_type": "code",
   "execution_count": null,
   "id": "a397bbb8",
   "metadata": {},
   "outputs": [],
   "source": []
  }
 ],
 "metadata": {
  "kernelspec": {
   "display_name": "Python 3",
   "language": "python",
   "name": "python3"
  },
  "language_info": {
   "codemirror_mode": {
    "name": "ipython",
    "version": 3
   },
   "file_extension": ".py",
   "mimetype": "text/x-python",
   "name": "python",
   "nbconvert_exporter": "python",
   "pygments_lexer": "ipython3",
   "version": "3.8.8"
  }
 },
 "nbformat": 4,
 "nbformat_minor": 5
}
